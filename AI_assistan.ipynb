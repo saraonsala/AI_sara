{
 "cells": [
  {
   "cell_type": "code",
   "execution_count": 5,
   "metadata": {},
   "outputs": [
    {
     "name": "stdout",
     "output_type": "stream",
     "text": [
      "Modulen fungerar!\n"
     ]
    }
   ],
   "source": [
    "from latest_ai_development.crew import LatestAiDevelopmentCrew\n",
    "\n",
    "try:\n",
    "    crew = LatestAiDevelopmentCrew()\n",
    "    print(\"Modulen fungerar!\")\n",
    "except ImportError as e:\n",
    "    print(f\"Importfel: {e}\")\n"
   ]
  },
  {
   "cell_type": "code",
   "execution_count": 6,
   "metadata": {},
   "outputs": [
    {
     "name": "stdout",
     "output_type": "stream",
     "text": [
      "['C:\\\\Users\\\\saram\\\\AppData\\\\Local\\\\Programs\\\\Python\\\\Python311\\\\python311.zip', 'C:\\\\Users\\\\saram\\\\AppData\\\\Local\\\\Programs\\\\Python\\\\Python311\\\\DLLs', 'C:\\\\Users\\\\saram\\\\AppData\\\\Local\\\\Programs\\\\Python\\\\Python311\\\\Lib', 'C:\\\\Users\\\\saram\\\\AppData\\\\Local\\\\Programs\\\\Python\\\\Python311', 'c:\\\\Users\\\\saram\\\\Klassprojekt\\\\GitHub\\\\GitHub_2\\\\AI_sara\\\\.venv', '', 'c:\\\\Users\\\\saram\\\\Klassprojekt\\\\GitHub\\\\GitHub_2\\\\AI_sara\\\\.venv\\\\Lib\\\\site-packages', 'c:\\\\Users\\\\saram\\\\Klassprojekt\\\\GitHub\\\\GitHub_2\\\\AI_sara\\\\.venv\\\\Lib\\\\site-packages\\\\win32', 'c:\\\\Users\\\\saram\\\\Klassprojekt\\\\GitHub\\\\GitHub_2\\\\AI_sara\\\\.venv\\\\Lib\\\\site-packages\\\\win32\\\\lib', 'c:\\\\Users\\\\saram\\\\Klassprojekt\\\\GitHub\\\\GitHub_2\\\\AI_sara\\\\.venv\\\\Lib\\\\site-packages\\\\Pythonwin', 'c:\\\\Users\\\\saram\\\\Klassprojekt\\\\GitHub\\\\GitHub_2\\\\AI_sara\\\\.venv\\\\Lib\\\\site-packages\\\\setuptools\\\\_vendor', 'c:\\\\Users\\\\saram\\\\Klassprojekt\\\\GitHub\\\\GitHub_2\\\\AI_sara']\n"
     ]
    }
   ],
   "source": [
    "import sys\n",
    "print(sys.path)\n"
   ]
  },
  {
   "cell_type": "code",
   "execution_count": 3,
   "metadata": {},
   "outputs": [
    {
     "ename": "ModuleNotFoundError",
     "evalue": "No module named 'torch'",
     "output_type": "error",
     "traceback": [
      "\u001b[1;31m---------------------------------------------------------------------------\u001b[0m",
      "\u001b[1;31mModuleNotFoundError\u001b[0m                       Traceback (most recent call last)",
      "Cell \u001b[1;32mIn[3], line 1\u001b[0m\n\u001b[1;32m----> 1\u001b[0m \u001b[38;5;28;01mimport\u001b[39;00m \u001b[38;5;21;01mtorch\u001b[39;00m\n\u001b[0;32m      2\u001b[0m \u001b[38;5;28;01mfrom\u001b[39;00m \u001b[38;5;21;01mtransformers\u001b[39;00m \u001b[38;5;28;01mimport\u001b[39;00m AutoTokenizer, AutoModelForMaskedLM\n\u001b[0;32m      4\u001b[0m \u001b[38;5;66;03m# Textgeneration\u001b[39;00m\n",
      "\u001b[1;31mModuleNotFoundError\u001b[0m: No module named 'torch'"
     ]
    }
   ],
   "source": [
    "import torch\n",
    "from transformers import AutoTokenizer, AutoModelForMaskedLM\n",
    "\n",
    "# Textgeneration\n",
    "model_id = \"AI-Sweden-Models/Llama-3-8B-instruct-Q4_K_M-gguf\"\n",
    "\n",
    "# Kontrollera om model_id stöder text-generation\n",
    "try:\n",
    "    pipeline = transformers.pipeline(\n",
    "        task=\"text-generation\",\n",
    "        model=model_id,\n",
    "        model_kwargs={\"torch_dtype\": torch.bfloat16},\n",
    "        device_map=\"auto\"\n",
    "    )\n",
    "\n",
    "    result = pipeline(\n",
    "        text_inputs=\"Sommar och sol är det bästa jag vet\",\n",
    "        max_length=128,\n",
    "        repetition_penalty=1.03\n",
    "    )\n",
    "    print(result)\n",
    "except Exception as e:\n",
    "    print(f\"Textgenerering misslyckades: {e}\")\n",
    "\n",
    "# Embeddingsmodell\n",
    "embeddings_model_id = \"AI-Sweden-Models/roberta-large-1160k\"\n",
    "\n",
    "try:\n",
    "    tokenizer = AutoTokenizer.from_pretrained(embeddings_model_id)\n",
    "    model = AutoModelForMaskedLM.from_pretrained(embeddings_model_id)\n",
    "\n",
    "    input_text = \"Maskerad text här: [MASK].\"\n",
    "    inputs = tokenizer(input_text, return_tensors=\"pt\")\n",
    "    outputs = model(**inputs)\n",
    "    print(outputs.logits)\n",
    "except Exception as e:\n",
    "    print(f\"Embeddingsmodell laddning misslyckades: {e}\")\n"
   ]
  }
 ],
 "metadata": {
  "kernelspec": {
   "display_name": ".venv",
   "language": "python",
   "name": "python3"
  },
  "language_info": {
   "codemirror_mode": {
    "name": "ipython",
    "version": 3
   },
   "file_extension": ".py",
   "mimetype": "text/x-python",
   "name": "python",
   "nbconvert_exporter": "python",
   "pygments_lexer": "ipython3",
   "version": "3.11.9"
  }
 },
 "nbformat": 4,
 "nbformat_minor": 2
}
